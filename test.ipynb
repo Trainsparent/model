{
 "cells": [
  {
   "cell_type": "code",
   "execution_count": 6,
   "metadata": {
    "collapsed": true
   },
   "outputs": [],
   "source": [
    "import requests\n",
    "token='8684f994-106d-40b7-a14a-a85bcef2593d'"
   ]
  },
  {
   "cell_type": "code",
   "execution_count": 32,
   "metadata": {
    "collapsed": false
   },
   "outputs": [
    {
     "name": "stdout",
     "output_type": "stream",
     "text": [
      "http://darwin.hacktrain.com/api/train/Cambridge/from/London Kings Cross?apiKey=8684f994-106d-40b7-a14a-a85bcef2593d&rows=10 [{'destinations': [{'stationName': 'Cambridge', 'stationCode': 'CBG'}], 'estimatedDepartureTime': None, 'serviceId': 'z5dQUufRnQcHQBWm/F2plA==', 'scheduledDepartureTime': None, 'scheduledArrivalTime': '00:03', 'operatorCode': 'GN', 'platform': '2', 'origins': [{'stationName': 'London Kings Cross', 'stationCode': 'KGX'}], 'operatorName': 'Great Northern', 'estimatedArrivalTime': '00:11'}, {'destinations': [{'stationName': 'Kings Lynn', 'stationCode': 'KLN'}], 'estimatedDepartureTime': None, 'serviceId': 'Vv7n6eHcAHDBSFOlAMOfxQ==', 'scheduledDepartureTime': None, 'scheduledArrivalTime': '00:05', 'operatorCode': 'GN', 'platform': '4A', 'origins': [{'stationName': 'London Kings Cross', 'stationCode': 'KGX'}], 'operatorName': 'Great Northern', 'estimatedArrivalTime': '00:10'}, {'destinations': [{'stationName': 'Cambridge', 'stationCode': 'CBG'}], 'estimatedDepartureTime': None, 'serviceId': '7ncAc8XXX5XEmzyOa6XJ/g==', 'scheduledDepartureTime': None, 'scheduledArrivalTime': '00:29', 'operatorCode': 'GN', 'platform': '1', 'origins': [{'stationName': 'London Kings Cross', 'stationCode': 'KGX'}], 'operatorName': 'Great Northern', 'estimatedArrivalTime': '00:32'}, {'destinations': [{'stationName': 'Cambridge', 'stationCode': 'CBG'}], 'estimatedDepartureTime': None, 'serviceId': '8xE7p1sDK/YjrrjfgyfJ3A==', 'scheduledDepartureTime': None, 'scheduledArrivalTime': '00:40', 'operatorCode': 'GN', 'platform': None, 'origins': [{'stationName': 'London Kings Cross', 'stationCode': 'KGX'}], 'operatorName': 'Great Northern', 'estimatedArrivalTime': 'Cancelled'}, {'destinations': [{'stationName': 'Cambridge', 'stationCode': 'CBG'}], 'estimatedDepartureTime': None, 'serviceId': '31/wDEZDH64xPzcf5uwxug==', 'scheduledDepartureTime': None, 'scheduledArrivalTime': '01:24', 'operatorCode': 'GN', 'platform': None, 'origins': [{'stationName': 'London Kings Cross', 'stationCode': 'KGX'}], 'operatorName': 'Great Northern', 'estimatedArrivalTime': 'On time'}, {'destinations': [{'stationName': 'Cambridge', 'stationCode': 'CBG'}], 'estimatedDepartureTime': None, 'serviceId': 'bNh5FYylJxOvBFQh2lmsvg==', 'scheduledDepartureTime': None, 'scheduledArrivalTime': '01:28', 'operatorCode': 'GN', 'platform': None, 'origins': [{'stationName': 'London Kings Cross', 'stationCode': 'KGX'}], 'operatorName': 'Great Northern', 'estimatedArrivalTime': 'On time'}]\n"
     ]
    }
   ],
   "source": [
    "u='http://darwin.hacktrain.com/api/train/{}/from/{}?apiKey={}&rows={}'.format('Cambridge', 'London Kings Cross', token, 10)\n",
    "a = requests.get(u).json()\n",
    "print(u, a)"
   ]
  },
  {
   "cell_type": "code",
   "execution_count": 33,
   "metadata": {
    "collapsed": false
   },
   "outputs": [
    {
     "data": {
      "text/html": [
       "<div>\n",
       "<table border=\"1\" class=\"dataframe\">\n",
       "  <thead>\n",
       "    <tr style=\"text-align: right;\">\n",
       "      <th></th>\n",
       "      <th>destinations</th>\n",
       "      <th>estimatedArrivalTime</th>\n",
       "      <th>estimatedDepartureTime</th>\n",
       "      <th>operatorCode</th>\n",
       "      <th>operatorName</th>\n",
       "      <th>origins</th>\n",
       "      <th>platform</th>\n",
       "      <th>scheduledArrivalTime</th>\n",
       "      <th>scheduledDepartureTime</th>\n",
       "      <th>serviceId</th>\n",
       "    </tr>\n",
       "  </thead>\n",
       "  <tbody>\n",
       "    <tr>\n",
       "      <th>0</th>\n",
       "      <td>[{'stationName': 'Cambridge', 'stationCode': '...</td>\n",
       "      <td>00:11</td>\n",
       "      <td>None</td>\n",
       "      <td>GN</td>\n",
       "      <td>Great Northern</td>\n",
       "      <td>[{'stationName': 'London Kings Cross', 'statio...</td>\n",
       "      <td>2</td>\n",
       "      <td>00:03</td>\n",
       "      <td>None</td>\n",
       "      <td>z5dQUufRnQcHQBWm/F2plA==</td>\n",
       "    </tr>\n",
       "    <tr>\n",
       "      <th>1</th>\n",
       "      <td>[{'stationName': 'Kings Lynn', 'stationCode': ...</td>\n",
       "      <td>00:10</td>\n",
       "      <td>None</td>\n",
       "      <td>GN</td>\n",
       "      <td>Great Northern</td>\n",
       "      <td>[{'stationName': 'London Kings Cross', 'statio...</td>\n",
       "      <td>4A</td>\n",
       "      <td>00:05</td>\n",
       "      <td>None</td>\n",
       "      <td>Vv7n6eHcAHDBSFOlAMOfxQ==</td>\n",
       "    </tr>\n",
       "    <tr>\n",
       "      <th>2</th>\n",
       "      <td>[{'stationName': 'Cambridge', 'stationCode': '...</td>\n",
       "      <td>00:32</td>\n",
       "      <td>None</td>\n",
       "      <td>GN</td>\n",
       "      <td>Great Northern</td>\n",
       "      <td>[{'stationName': 'London Kings Cross', 'statio...</td>\n",
       "      <td>1</td>\n",
       "      <td>00:29</td>\n",
       "      <td>None</td>\n",
       "      <td>7ncAc8XXX5XEmzyOa6XJ/g==</td>\n",
       "    </tr>\n",
       "    <tr>\n",
       "      <th>3</th>\n",
       "      <td>[{'stationName': 'Cambridge', 'stationCode': '...</td>\n",
       "      <td>Cancelled</td>\n",
       "      <td>None</td>\n",
       "      <td>GN</td>\n",
       "      <td>Great Northern</td>\n",
       "      <td>[{'stationName': 'London Kings Cross', 'statio...</td>\n",
       "      <td>None</td>\n",
       "      <td>00:40</td>\n",
       "      <td>None</td>\n",
       "      <td>8xE7p1sDK/YjrrjfgyfJ3A==</td>\n",
       "    </tr>\n",
       "    <tr>\n",
       "      <th>4</th>\n",
       "      <td>[{'stationName': 'Cambridge', 'stationCode': '...</td>\n",
       "      <td>On time</td>\n",
       "      <td>None</td>\n",
       "      <td>GN</td>\n",
       "      <td>Great Northern</td>\n",
       "      <td>[{'stationName': 'London Kings Cross', 'statio...</td>\n",
       "      <td>None</td>\n",
       "      <td>01:24</td>\n",
       "      <td>None</td>\n",
       "      <td>31/wDEZDH64xPzcf5uwxug==</td>\n",
       "    </tr>\n",
       "    <tr>\n",
       "      <th>5</th>\n",
       "      <td>[{'stationName': 'Cambridge', 'stationCode': '...</td>\n",
       "      <td>On time</td>\n",
       "      <td>None</td>\n",
       "      <td>GN</td>\n",
       "      <td>Great Northern</td>\n",
       "      <td>[{'stationName': 'London Kings Cross', 'statio...</td>\n",
       "      <td>None</td>\n",
       "      <td>01:28</td>\n",
       "      <td>None</td>\n",
       "      <td>bNh5FYylJxOvBFQh2lmsvg==</td>\n",
       "    </tr>\n",
       "  </tbody>\n",
       "</table>\n",
       "</div>"
      ],
      "text/plain": [
       "                                        destinations estimatedArrivalTime  \\\n",
       "0  [{'stationName': 'Cambridge', 'stationCode': '...                00:11   \n",
       "1  [{'stationName': 'Kings Lynn', 'stationCode': ...                00:10   \n",
       "2  [{'stationName': 'Cambridge', 'stationCode': '...                00:32   \n",
       "3  [{'stationName': 'Cambridge', 'stationCode': '...            Cancelled   \n",
       "4  [{'stationName': 'Cambridge', 'stationCode': '...              On time   \n",
       "5  [{'stationName': 'Cambridge', 'stationCode': '...              On time   \n",
       "\n",
       "  estimatedDepartureTime operatorCode    operatorName  \\\n",
       "0                   None           GN  Great Northern   \n",
       "1                   None           GN  Great Northern   \n",
       "2                   None           GN  Great Northern   \n",
       "3                   None           GN  Great Northern   \n",
       "4                   None           GN  Great Northern   \n",
       "5                   None           GN  Great Northern   \n",
       "\n",
       "                                             origins platform  \\\n",
       "0  [{'stationName': 'London Kings Cross', 'statio...        2   \n",
       "1  [{'stationName': 'London Kings Cross', 'statio...       4A   \n",
       "2  [{'stationName': 'London Kings Cross', 'statio...        1   \n",
       "3  [{'stationName': 'London Kings Cross', 'statio...     None   \n",
       "4  [{'stationName': 'London Kings Cross', 'statio...     None   \n",
       "5  [{'stationName': 'London Kings Cross', 'statio...     None   \n",
       "\n",
       "  scheduledArrivalTime scheduledDepartureTime                 serviceId  \n",
       "0                00:03                   None  z5dQUufRnQcHQBWm/F2plA==  \n",
       "1                00:05                   None  Vv7n6eHcAHDBSFOlAMOfxQ==  \n",
       "2                00:29                   None  7ncAc8XXX5XEmzyOa6XJ/g==  \n",
       "3                00:40                   None  8xE7p1sDK/YjrrjfgyfJ3A==  \n",
       "4                01:24                   None  31/wDEZDH64xPzcf5uwxug==  \n",
       "5                01:28                   None  bNh5FYylJxOvBFQh2lmsvg==  "
      ]
     },
     "execution_count": 33,
     "metadata": {},
     "output_type": "execute_result"
    }
   ],
   "source": [
    "from pandas.io.json import json_normalize\n",
    "json_normalize(a)"
   ]
  },
  {
   "cell_type": "code",
   "execution_count": 24,
   "metadata": {
    "collapsed": false
   },
   "outputs": [
    {
     "data": {
      "text/plain": [
       "{'SPX': 'London St Pancras (Intl)', 'STP': 'London St Pancras International'}"
      ]
     },
     "execution_count": 24,
     "metadata": {},
     "output_type": "execute_result"
    }
   ],
   "source": [
    "requests.et('http://darwin.hacktrain.com/api/station/code/{}'.format('King'))"
   ]
  },
  {
   "cell_type": "code",
   "execution_count": 28,
   "metadata": {
    "collapsed": false
   },
   "outputs": [
    {
     "data": {
      "text/plain": [
       "{'CBG': 'Cambridge', 'CBH': 'Cambridge Heath'}"
      ]
     },
     "execution_count": 28,
     "metadata": {},
     "output_type": "execute_result"
    }
   ],
   "source": [
    "requests.get('http://darwin.hacktrain.com/api/station/code/Cambridge').json()"
   ]
  },
  {
   "cell_type": "code",
   "execution_count": 29,
   "metadata": {
    "collapsed": false
   },
   "outputs": [
    {
     "data": {
      "text/plain": [
       "[{'destinations': [{'stationCode': 'CBG', 'stationName': 'Cambridge'}],\n",
       "  'estimatedArrivalTime': '00:03',\n",
       "  'estimatedDepartureTime': None,\n",
       "  'operatorCode': 'LE',\n",
       "  'operatorName': 'Greater Anglia',\n",
       "  'origins': [{'stationCode': 'NRW', 'stationName': 'Norwich'}],\n",
       "  'platform': '6',\n",
       "  'scheduledArrivalTime': '23:59',\n",
       "  'scheduledDepartureTime': None,\n",
       "  'serviceId': '35HFcU32cL0UlLFpbvc5GQ=='},\n",
       " {'destinations': [{'stationCode': 'CBG', 'stationName': 'Cambridge'}],\n",
       "  'estimatedArrivalTime': '00:10',\n",
       "  'estimatedDepartureTime': None,\n",
       "  'operatorCode': 'GN',\n",
       "  'operatorName': 'Great Northern',\n",
       "  'origins': [{'stationCode': 'KGX', 'stationName': 'London Kings Cross'}],\n",
       "  'platform': '2',\n",
       "  'scheduledArrivalTime': '00:03',\n",
       "  'scheduledDepartureTime': None,\n",
       "  'serviceId': 'z5dQUufRnQcHQBWm/F2plA=='},\n",
       " {'destinations': [{'stationCode': 'CBG', 'stationName': 'Cambridge'}],\n",
       "  'estimatedArrivalTime': '00:14',\n",
       "  'estimatedDepartureTime': None,\n",
       "  'operatorCode': 'LE',\n",
       "  'operatorName': 'Greater Anglia',\n",
       "  'origins': [{'stationCode': 'LST',\n",
       "    'stationName': 'London Liverpool Street'}],\n",
       "  'platform': '1',\n",
       "  'scheduledArrivalTime': '00:09',\n",
       "  'scheduledDepartureTime': None,\n",
       "  'serviceId': 'tWnmlad3WiCyZiC1wcl5OA=='},\n",
       " {'destinations': [{'stationCode': 'KLN', 'stationName': 'Kings Lynn'}],\n",
       "  'estimatedArrivalTime': '00:08',\n",
       "  'estimatedDepartureTime': 'On time',\n",
       "  'operatorCode': 'GN',\n",
       "  'operatorName': 'Great Northern',\n",
       "  'origins': [{'stationCode': 'KGX', 'stationName': 'London Kings Cross'}],\n",
       "  'platform': '4A',\n",
       "  'scheduledArrivalTime': '00:05',\n",
       "  'scheduledDepartureTime': '00:10',\n",
       "  'serviceId': 'Vv7n6eHcAHDBSFOlAMOfxQ=='},\n",
       " {'destinations': [{'stationCode': 'CBG', 'stationName': 'Cambridge'}],\n",
       "  'estimatedArrivalTime': '00:32',\n",
       "  'estimatedDepartureTime': None,\n",
       "  'operatorCode': 'GN',\n",
       "  'operatorName': 'Great Northern',\n",
       "  'origins': [{'stationCode': 'KGX', 'stationName': 'London Kings Cross'}],\n",
       "  'platform': '1',\n",
       "  'scheduledArrivalTime': '00:29',\n",
       "  'scheduledDepartureTime': None,\n",
       "  'serviceId': '7ncAc8XXX5XEmzyOa6XJ/g=='},\n",
       " {'destinations': [{'stationCode': 'CBG', 'stationName': 'Cambridge'}],\n",
       "  'estimatedArrivalTime': 'Cancelled',\n",
       "  'estimatedDepartureTime': None,\n",
       "  'operatorCode': 'GN',\n",
       "  'operatorName': 'Great Northern',\n",
       "  'origins': [{'stationCode': 'KGX', 'stationName': 'London Kings Cross'}],\n",
       "  'platform': None,\n",
       "  'scheduledArrivalTime': '00:40',\n",
       "  'scheduledDepartureTime': None,\n",
       "  'serviceId': '8xE7p1sDK/YjrrjfgyfJ3A=='},\n",
       " {'destinations': [{'stationCode': 'CBG', 'stationName': 'Cambridge'}],\n",
       "  'estimatedArrivalTime': '01:07',\n",
       "  'estimatedDepartureTime': None,\n",
       "  'operatorCode': 'LE',\n",
       "  'operatorName': 'Greater Anglia',\n",
       "  'origins': [{'stationCode': 'LST',\n",
       "    'stationName': 'London Liverpool Street'}],\n",
       "  'platform': None,\n",
       "  'scheduledArrivalTime': '00:51',\n",
       "  'scheduledDepartureTime': None,\n",
       "  'serviceId': 'phP/11JVES4UFSk6bP4gGg=='},\n",
       " {'destinations': [{'stationCode': 'CBG', 'stationName': 'Cambridge'}],\n",
       "  'estimatedArrivalTime': 'On time',\n",
       "  'estimatedDepartureTime': None,\n",
       "  'operatorCode': 'LE',\n",
       "  'operatorName': 'Greater Anglia',\n",
       "  'origins': [{'stationCode': 'LST',\n",
       "    'stationName': 'London Liverpool Street'}],\n",
       "  'platform': None,\n",
       "  'scheduledArrivalTime': '01:19',\n",
       "  'scheduledDepartureTime': None,\n",
       "  'serviceId': 'XZHyCTMIGe0d4TWRdi6lug=='},\n",
       " {'destinations': [{'stationCode': 'CBG', 'stationName': 'Cambridge'}],\n",
       "  'estimatedArrivalTime': 'On time',\n",
       "  'estimatedDepartureTime': None,\n",
       "  'operatorCode': 'GN',\n",
       "  'operatorName': 'Great Northern',\n",
       "  'origins': [{'stationCode': 'KGX', 'stationName': 'London Kings Cross'}],\n",
       "  'platform': None,\n",
       "  'scheduledArrivalTime': '01:24',\n",
       "  'scheduledDepartureTime': None,\n",
       "  'serviceId': '31/wDEZDH64xPzcf5uwxug=='},\n",
       " {'destinations': [{'stationCode': 'CBG', 'stationName': 'Cambridge'}],\n",
       "  'estimatedArrivalTime': 'On time',\n",
       "  'estimatedDepartureTime': None,\n",
       "  'operatorCode': 'GN',\n",
       "  'operatorName': 'Great Northern',\n",
       "  'origins': [{'stationCode': 'KGX', 'stationName': 'London Kings Cross'}],\n",
       "  'platform': None,\n",
       "  'scheduledArrivalTime': '01:28',\n",
       "  'scheduledDepartureTime': None,\n",
       "  'serviceId': 'bNh5FYylJxOvBFQh2lmsvg=='}]"
      ]
     },
     "execution_count": 29,
     "metadata": {},
     "output_type": "execute_result"
    }
   ],
   "source": [
    "requests.get('http://darwin.hacktrain.com/api/train/{}?apiKey={}&rows=10'.format('Cambridge', token)).json()"
   ]
  },
  {
   "cell_type": "code",
   "execution_count": null,
   "metadata": {
    "collapsed": true
   },
   "outputs": [],
   "source": []
  }
 ],
 "metadata": {
  "anaconda-cloud": {},
  "kernelspec": {
   "display_name": "Python [conda root]",
   "language": "python",
   "name": "conda-root-py"
  },
  "language_info": {
   "codemirror_mode": {
    "name": "ipython",
    "version": 3
   },
   "file_extension": ".py",
   "mimetype": "text/x-python",
   "name": "python",
   "nbconvert_exporter": "python",
   "pygments_lexer": "ipython3",
   "version": "3.5.2"
  }
 },
 "nbformat": 4,
 "nbformat_minor": 1
}
